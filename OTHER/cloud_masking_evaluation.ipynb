{
  "nbformat": 4,
  "nbformat_minor": 0,
  "metadata": {
    "colab": {
      "name": "cloud_masking_evaluation.ipynb",
      "provenance": [],
      "collapsed_sections": [],
      "authorship_tag": "ABX9TyPMm427CFV0MR/Naz/gD47y",
      "include_colab_link": true
    },
    "kernelspec": {
      "name": "python3",
      "display_name": "Python 3"
    },
    "language_info": {
      "name": "python"
    }
  },
  "cells": [
    {
      "cell_type": "markdown",
      "metadata": {
        "id": "view-in-github",
        "colab_type": "text"
      },
      "source": [
        "<a href=\"https://colab.research.google.com/github/Pompey21/Don-t-Let-the-Bark-Beetle-Bite-You/blob/main/cloud_masking_evaluation.ipynb\" target=\"_parent\"><img src=\"https://colab.research.google.com/assets/colab-badge.svg\" alt=\"Open In Colab\"/></a>"
      ]
    },
    {
      "cell_type": "code",
      "execution_count": null,
      "metadata": {
        "id": "zlfCy_7eHx7s"
      },
      "outputs": [],
      "source": [
        "import numpy as np\n",
        "import sys\n",
        "import numpy\n",
        "import matplotlib.pyplot as plt\n",
        "import numpy as np\n",
        "import seaborn as sns\n",
        "from google.colab import files\n",
        "import pandas as pd\n",
        "from google.colab import drive\n",
        "from PIL import Image"
      ]
    },
    {
      "cell_type": "code",
      "source": [
        "# reading the algorithm's cloud mask\n",
        "cloud_mask = np.genfromtxt('model_X.csv',delimiter=',')\n",
        "# print(cloud_mask[len(cloud_mask)-1])\n",
        "\n",
        "def plot_image(image=None, mask=None, ax=None, factor=3.5/255, clip_range=(0, 1), **kwargs):\n",
        "    \"\"\" Utility function for plotting RGB images and masks.\n",
        "    \"\"\"\n",
        "    # print(f'Image: {image}')\n",
        "    # print(f'Mask: {mask}')\n",
        "    # print(type(mask))\n",
        "    # print(mask.shape)\n",
        "    # print(mask.ndim)\n",
        "    # print(f'Ax: {ax}')\n",
        "\n",
        "    np.savetxt('array.csv', mask, delimiter=',', fmt='%d')\n",
        "\n",
        "\n",
        "\n",
        "\n",
        "\n",
        "    if ax is None:\n",
        "        _, ax = plt.subplots(nrows=1, ncols=1, figsize=(15, 15))\n",
        "\n",
        "    plt.title(\"Region of Interest - True Colour\",fontsize=30)\n",
        "    mask_color = [255, 255, 255, 255] if image is None else [255, 255, 0, 100]\n",
        "    \n",
        "\n",
        "    if image is None:\n",
        "        if mask is None:\n",
        "            raise ValueError('image or mask should be given')\n",
        "        image = np.zeros(mask.shape + (3,), dtype=np.uint8)\n",
        "\n",
        "    ax.imshow(np.clip(image * factor, *clip_range), **kwargs)\n",
        "\n",
        "    if mask is not None:\n",
        "        cloud_image = np.zeros((mask.shape[0], mask.shape[1], 4), dtype=np.uint8)\n",
        "\n",
        "        cloud_image[mask == 1] = np.asarray(mask_color, dtype=np.uint8)\n",
        "        plt.title(\"Region of Interest - Cloud Mask\",fontsize=30)\n",
        "        plt.xticks([])\n",
        "        plt.yticks([])\n",
        "        ax.imshow(cloud_image)"
      ],
      "metadata": {
        "id": "VBVE9IiiOLi-"
      },
      "execution_count": null,
      "outputs": []
    },
    {
      "cell_type": "code",
      "source": [
        ""
      ],
      "metadata": {
        "id": "bDUa5hr9NffW"
      },
      "execution_count": null,
      "outputs": []
    },
    {
      "cell_type": "code",
      "source": [
        "plot_image(mask=cloud_mask)\n",
        "print(list(cloud_mask[len(cloud_mask)-1]))\n",
        "\n",
        "\n",
        "# print(pd.DataFrame(cloud_mask))\n",
        "\n",
        "# predicted = cloud_mask[:len(cloud_mask)-3]\n",
        "\n",
        "# print(pd.DataFrame(predicted))"
      ],
      "metadata": {
        "colab": {
          "base_uri": "https://localhost:8080/",
          "height": 917
        },
        "id": "ogZfXWUFN5cM",
        "outputId": "b7807aad-e6bf-4f11-bff1-f1203984c333"
      },
      "execution_count": null,
      "outputs": [
        {
          "output_type": "stream",
          "name": "stdout",
          "text": [
            "[0.0, 0.0, 0.0, 0.0, 0.0, 0.0, 0.0, 0.0, 0.0, 0.0, 0.0, 0.0, 0.0, 0.0, 0.0, 0.0, 0.0, 0.0, 0.0, 0.0, 0.0, 0.0, 0.0, 0.0, 0.0, 0.0, 0.0, 0.0, 0.0, 0.0, 0.0, 0.0, 1.0, 1.0, 1.0, 1.0, 1.0, 1.0, 1.0, 1.0, 1.0, 1.0, 1.0, 1.0, 1.0, 1.0, 1.0, 1.0, 1.0, 1.0, 1.0, 1.0, 1.0, 1.0, 1.0, 1.0, 1.0, 1.0, 1.0, 1.0, 1.0, 1.0, 1.0, 1.0, 1.0, 1.0, 1.0, 1.0, 1.0, 1.0, 1.0, 1.0, 1.0, 1.0, 1.0, 1.0, 1.0, 1.0, 1.0, 1.0, 1.0, 1.0, 1.0, 1.0, 1.0, 1.0, 1.0, 1.0, 1.0, 1.0, 1.0, 1.0, 1.0, 1.0, 1.0, 1.0, 1.0, 1.0, 1.0, 1.0, 1.0, 1.0, 1.0, 1.0, 1.0, 1.0, 1.0, 1.0, 1.0, 1.0, 1.0, 1.0, 1.0, 1.0, 1.0, 1.0, 1.0, 1.0, 1.0, 1.0, 1.0, 1.0, 1.0, 1.0, 1.0, 1.0, 1.0, 1.0, 1.0, 1.0, 1.0, 1.0, 1.0, 1.0, 1.0, 1.0, 1.0, 1.0, 1.0, 1.0, 1.0, 1.0, 1.0, 1.0, 1.0, 1.0, 1.0, 1.0, 1.0, 1.0, 1.0, 1.0, 1.0, 1.0, 1.0, 1.0, 1.0, 1.0, 1.0, 1.0, 0.0, 0.0, 0.0, 0.0, 0.0, 0.0, 0.0, 1.0, 1.0, 1.0, 1.0, 1.0, 1.0, 1.0, 1.0, 1.0, 1.0, 1.0, 1.0, 1.0, 1.0, 1.0, 1.0, 1.0, 1.0, 0.0, 0.0, 0.0, 0.0, 0.0, 0.0, 0.0, 0.0, 0.0, 0.0, 0.0, 0.0, 0.0, 0.0, 0.0, 0.0, 0.0, 0.0, 0.0, 0.0, 0.0, 0.0, 0.0, 0.0, 0.0, 0.0, 0.0, 0.0, 0.0, 0.0, 0.0, 0.0, 0.0, 0.0, 0.0, 0.0, 0.0, 0.0, 0.0, 0.0, 0.0, 0.0, 0.0, 0.0, 0.0, 0.0, 0.0, 0.0, 0.0, 0.0, 0.0, 0.0, 0.0, 0.0, 0.0, 0.0, 0.0, 0.0, 0.0, 0.0, 0.0, 0.0, 0.0, 0.0, 0.0, 0.0, 0.0, 0.0, 0.0, 0.0, 0.0, 0.0, 0.0, 0.0, 0.0, 0.0, 0.0, 0.0, 0.0, 0.0, 0.0, 0.0, 0.0, 0.0, 0.0, 0.0, 0.0, 0.0, 0.0, 0.0, 0.0, 0.0, 0.0, 0.0, 0.0, 0.0, 0.0, 0.0, 0.0, 0.0, 0.0, 0.0, 0.0, 0.0, 0.0, 0.0, 0.0, 0.0, 0.0, 0.0, 0.0, 0.0, 0.0, 0.0, 0.0, 0.0, 0.0, 0.0, 0.0, 0.0, 0.0, 0.0, 0.0, 0.0, 0.0, 0.0, 0.0, 0.0, 0.0, 0.0, 0.0, 0.0, 0.0, 0.0, 0.0, 0.0, 0.0, 0.0, 0.0, 0.0, 0.0, 0.0, 0.0, 0.0, 0.0, 0.0, 0.0, 0.0, 0.0, 0.0, 0.0, 0.0, 0.0, 0.0, 0.0, 0.0, 0.0, 0.0, 0.0, 0.0, 0.0, 0.0, 0.0, 0.0, 0.0, 0.0, 0.0, 0.0, 0.0, 0.0, 0.0, 0.0, 0.0, 0.0, 0.0, 0.0, 0.0, 0.0, 0.0, 0.0, 0.0, 0.0, 0.0, 0.0, 0.0, 0.0, 0.0, 0.0, 0.0, 0.0, 0.0, 0.0, 0.0, 0.0, 0.0, 0.0, 0.0, 0.0, 0.0, 0.0, 0.0, 0.0, 0.0, 0.0, 0.0, 0.0, 0.0, 0.0, 0.0, 0.0, 0.0, 0.0, 0.0, 0.0, 0.0, 0.0, 0.0, 0.0, 0.0, 0.0, 0.0, 0.0, 0.0, 0.0, 0.0, 0.0, 0.0, 0.0, 0.0, 0.0, 0.0, 0.0, 0.0, 0.0, 0.0, 0.0, 0.0, 0.0, 0.0, 0.0, 0.0, 0.0, 0.0, 0.0, 0.0, 0.0, 0.0, 0.0, 0.0, 0.0, 0.0, 0.0, 0.0, 0.0, 0.0, 0.0, 0.0, 0.0, 0.0, 0.0, 0.0, 0.0, 0.0, 0.0, 0.0, 0.0, 0.0, 0.0, 0.0, 0.0, 0.0, 0.0, 0.0, 0.0, 0.0, 0.0, 0.0, 0.0, 0.0, 0.0, 0.0, 0.0, 0.0, 0.0, 0.0, 0.0, 0.0, 0.0, 0.0, 0.0, 0.0, 0.0, 0.0, 0.0, 0.0, 0.0, 0.0, 0.0, 0.0, 0.0, 0.0, 0.0, 0.0, 0.0, 0.0, 0.0, 0.0, 0.0, 0.0, 0.0, 0.0, 0.0, 0.0, 0.0, 0.0, 0.0, 0.0, 0.0, 0.0, 0.0, 0.0, 0.0, 0.0, 0.0, 0.0, 0.0, 0.0, 0.0, 0.0, 0.0, 0.0, 0.0, 0.0, 0.0, 0.0, 0.0, 0.0, 0.0, 0.0, 0.0, 0.0, 0.0, 0.0, 0.0, 0.0, 0.0, 0.0, 0.0, 0.0, 0.0, 0.0, 0.0, 0.0, 0.0, 0.0, 0.0, 0.0, 0.0, 0.0, 0.0, 0.0, 0.0, 0.0, 0.0, 0.0, 0.0, 0.0, 0.0, 0.0, 0.0, 0.0, 0.0, 0.0, 0.0, 0.0, 0.0, 0.0, 0.0, 0.0, 0.0, 0.0, 0.0, 0.0, 0.0, 0.0, 0.0, 0.0, 0.0, 0.0, 0.0, 0.0, 0.0, 0.0, 0.0, 0.0, 0.0, 0.0, 0.0, 0.0, 0.0, 0.0, 0.0, 0.0, 0.0, 0.0, 0.0, 0.0, 0.0, 0.0, 0.0, 0.0, 0.0, 0.0, 0.0, 0.0, 0.0, 0.0, 0.0, 0.0, 0.0, 0.0, 0.0, 0.0, 0.0, 0.0, 0.0, 0.0, 0.0, 0.0, 0.0, 0.0, 0.0, 0.0, 0.0, 0.0, 0.0, 0.0, 0.0, 0.0, 0.0, 0.0, 0.0, 0.0, 0.0, 0.0, 0.0, 0.0, 0.0, 0.0, 0.0, 0.0, 0.0, 0.0, 0.0, 0.0, 0.0, 0.0, 0.0, 0.0, 0.0, 0.0, 0.0, 0.0, 0.0, 0.0, 0.0, 0.0, 0.0, 0.0, 0.0, 0.0, 0.0, 0.0, 0.0, 0.0, 0.0, 0.0, 0.0, 0.0, 0.0, 0.0, 0.0, 0.0, 0.0, 0.0, 0.0, 0.0, 0.0, 0.0, 0.0, 0.0, 0.0, 0.0, 0.0, 0.0, 0.0, 0.0, 0.0, 0.0, 0.0, 0.0, 0.0, 0.0, 0.0, 0.0, 0.0, 0.0, 0.0, 0.0, 0.0, 0.0, 0.0, 0.0, 0.0, 0.0, 0.0, 0.0, 0.0, 0.0, 0.0, 0.0, 0.0, 0.0, 0.0, 0.0, 0.0, 0.0, 0.0, 0.0, 0.0, 0.0, 0.0, 0.0, 0.0, 0.0, 0.0, 0.0, 0.0, 0.0, 0.0, 0.0, 0.0, 0.0, 0.0, 0.0, 0.0, 0.0, 0.0, 0.0, 0.0, 0.0, 0.0, 0.0, 0.0, 0.0, 0.0, 0.0, 0.0, 0.0, 0.0, 0.0, 0.0, 0.0, 0.0, 0.0, 0.0, 0.0, 0.0, 0.0, 0.0, 0.0, 0.0, 0.0, 0.0, 0.0, 0.0, 0.0, 0.0, 0.0, 0.0, 0.0, 0.0, 0.0, 0.0, 0.0, 0.0, 0.0, 0.0, 0.0, 0.0, 0.0, 0.0, 0.0, 0.0, 0.0, 0.0, 0.0, 0.0, 0.0, 0.0, 0.0, 0.0, 0.0, 0.0, 0.0, 0.0, 0.0, 0.0, 0.0, 0.0, 0.0, 0.0, 0.0, 0.0, 0.0, 0.0, 0.0, 0.0, 0.0, 0.0, 0.0, 0.0, 0.0, 0.0, 0.0, 0.0, 0.0, 0.0, 0.0, 0.0, 0.0, 0.0, 0.0, 0.0, 0.0, 0.0, 0.0, 0.0, 0.0, 0.0, 0.0, 0.0, 0.0, 0.0, 0.0, 0.0, 0.0, 0.0, 0.0, 0.0, 0.0, 0.0, 0.0, 0.0, 0.0, 0.0, 0.0, 0.0, 0.0, 0.0, 0.0, 0.0, 0.0, 0.0, 0.0, 0.0, 0.0, 0.0, 0.0, 0.0, 0.0, 0.0, 0.0, 0.0, 0.0, 0.0, 0.0, 0.0, 0.0, 0.0, 0.0, 0.0, 0.0, 0.0, 0.0, 0.0, 0.0, 0.0, 0.0, 0.0, 0.0, 0.0, 0.0, 0.0, 0.0, 0.0, 0.0, 0.0, 0.0, 0.0, 0.0, 0.0, 0.0, 0.0, 0.0, 0.0, 0.0, 0.0, 0.0, 0.0, 0.0, 0.0, 0.0, 0.0, 0.0, 0.0, 0.0, 0.0, 0.0, 0.0, 0.0, 0.0, 0.0, 0.0, 0.0, 0.0, 0.0, 0.0, 0.0, 0.0, 0.0, 0.0, 0.0, 0.0, 0.0, 0.0, 0.0, 0.0, 0.0, 0.0, 0.0, 0.0, 0.0, 0.0, 0.0, 0.0, 0.0, 0.0, 0.0, 0.0, 0.0, 0.0, 0.0, 0.0, 0.0, 0.0, 0.0, 0.0, 0.0, 0.0, 0.0, 0.0, 0.0, 0.0, 0.0, 0.0, 0.0, 0.0, 0.0, 0.0, 0.0, 0.0, 0.0, 0.0, 0.0, 0.0, 0.0, 0.0, 0.0, 0.0, 0.0, 0.0, 0.0, 0.0, 0.0, 0.0, 0.0, 0.0, 0.0, 0.0, 0.0, 0.0, 0.0, 0.0, 0.0, 0.0, 0.0, 0.0, 0.0, 0.0, 0.0, 0.0, 0.0, 0.0, 0.0, 0.0, 0.0, 0.0, 0.0, 0.0, 0.0, 0.0, 0.0, 0.0, 0.0, 0.0, 0.0, 0.0, 0.0, 0.0, 0.0, 0.0, 0.0, 0.0, 0.0, 0.0, 0.0, 0.0, 0.0, 0.0, 0.0, 0.0, 0.0, 0.0, 0.0, 0.0, 0.0, 0.0, 0.0, 0.0, 0.0, 0.0, 0.0, 0.0, 0.0, 0.0, 0.0, 0.0, 0.0, 0.0, 0.0, 0.0, 0.0, 0.0, 0.0, 0.0, 0.0, 0.0, 0.0, 0.0, 0.0, 0.0, 0.0, 0.0, 0.0, 0.0, 0.0, 0.0, 0.0, 0.0, 0.0, 0.0, 0.0, 0.0, 0.0, 0.0, 0.0, 0.0, 0.0, 0.0, 0.0, 0.0, 0.0, 0.0, 0.0, 0.0, 0.0, 0.0, 0.0, 0.0, 0.0, 0.0, 0.0, 0.0, 0.0, 0.0, 0.0, 0.0, 0.0, 0.0, 0.0, 0.0, 0.0, 0.0, 0.0, 0.0, 0.0, 0.0, 0.0, 0.0, 0.0, 0.0, 0.0, 0.0, 0.0, 0.0, 0.0, 0.0, 0.0, 0.0, 0.0, 0.0, 0.0, 0.0, 0.0, 0.0, 0.0, 0.0, 0.0, 0.0, 0.0, 0.0, 0.0, 0.0, 0.0, 0.0, 0.0, 0.0, 0.0, 0.0, 0.0, 0.0, 0.0, 0.0, 0.0, 0.0, 0.0, 0.0, 0.0, 0.0, 0.0, 0.0, 0.0, 0.0, 0.0, 0.0, 0.0, 0.0, 0.0, 0.0, 0.0, 0.0, 0.0, 0.0, 0.0, 0.0, 0.0]\n"
          ]
        },
        {
          "output_type": "display_data",
          "data": {
            "text/plain": [
              "<Figure size 1080x1080 with 1 Axes>"
            ],
            "image/png": "[encoded data removed]"
          },
          "metadata": {}
        }
      ]
    },
    {
      "cell_type": "code",
      "source": [
        "# Import the necessary libraries\n",
        "from PIL import Image\n",
        "from numpy import asarray\n",
        "  \n",
        "  \n",
        "# load the image and convert into\n",
        "# numpy array\n",
        "img = Image.open('cloud-masking-test-1.jpeg')\n",
        "  \n",
        "# asarray() class is used to convert\n",
        "# PIL images into NumPy arrays\n",
        "numpydata = asarray(img)\n",
        "  \n",
        "# <class 'numpy.ndarray'>\n",
        "# print((numpydata))\n",
        "  \n",
        "#  shape\n",
        "print(numpydata.shape)"
      ],
      "metadata": {
        "colab": {
          "base_uri": "https://localhost:8080/"
        },
        "id": "Sc34XR1rOQPs",
        "outputId": "0bfb27db-5cfd-4938-dcd7-5f9fe8f65729"
      },
      "execution_count": null,
      "outputs": [
        {
          "output_type": "stream",
          "name": "stdout",
          "text": [
            "(1132, 1152, 3)\n"
          ]
        }
      ]
    },
    {
      "cell_type": "code",
      "source": [
        "\n",
        "print(numpydata[0][0])\n",
        "print(numpydata[0][0][0])\n",
        "print(numpydata[0][0][1])\n",
        "\n",
        "numpydata = numpydata[:,:,0:1]\n"
      ],
      "metadata": {
        "colab": {
          "base_uri": "https://localhost:8080/"
        },
        "id": "v8wBvlBhOknl",
        "outputId": "79d06a9f-7841-439a-9511-e561ff9799be"
      },
      "execution_count": null,
      "outputs": [
        {
          "output_type": "stream",
          "name": "stdout",
          "text": [
            "[26 49 55]\n",
            "26\n",
            "49\n"
          ]
        }
      ]
    },
    {
      "cell_type": "code",
      "source": [
        "np.min(numpydata)"
      ],
      "metadata": {
        "colab": {
          "base_uri": "https://localhost:8080/"
        },
        "id": "FFEZnclYOnvM",
        "outputId": "9edbed96-c6fa-4c43-9f7b-9b904196e4ca"
      },
      "execution_count": null,
      "outputs": [
        {
          "output_type": "execute_result",
          "data": {
            "text/plain": [
              "0"
            ]
          },
          "metadata": {},
          "execution_count": 7
        }
      ]
    },
    {
      "cell_type": "code",
      "source": [
        "np.max(numpydata)"
      ],
      "metadata": {
        "colab": {
          "base_uri": "https://localhost:8080/"
        },
        "id": "5SbXuKAVQoQ4",
        "outputId": "96e50873-2051-4379-d55b-db71cb6852f0"
      },
      "execution_count": null,
      "outputs": [
        {
          "output_type": "execute_result",
          "data": {
            "text/plain": [
              "255"
            ]
          },
          "metadata": {},
          "execution_count": 8
        }
      ]
    },
    {
      "cell_type": "code",
      "source": [
        "\n",
        "numpy.set_printoptions(threshold=sys.maxsize)\n",
        "print(numpydata)"
      ],
      "metadata": {
        "colab": {
          "base_uri": "https://localhost:8080/"
        },
        "id": "3_O5ApKMQ2Q0",
        "outputId": "bea260b0-ee4a-464b-9a62-77082a5c3ec6"
      },
      "execution_count": null,
      "outputs": [
        {
          "output_type": "stream",
          "name": "stderr",
          "text": [
            "IOPub data rate exceeded.\n",
            "The notebook server will temporarily stop sending output\n",
            "to the client in order to avoid crashing it.\n",
            "To change this limit, set the config variable\n",
            "`--NotebookApp.iopub_data_rate_limit`.\n",
            "\n",
            "Current values:\n",
            "NotebookApp.iopub_data_rate_limit=1000000.0 (bytes/sec)\n",
            "NotebookApp.rate_limit_window=3.0 (secs)\n",
            "\n"
          ]
        }
      ]
    },
    {
      "cell_type": "code",
      "source": [
        "cloud = []\n",
        "\n",
        "for row in numpydata:\n",
        "  new_row = []\n",
        "  for elem in row:\n",
        "    if elem[0] > 200:\n",
        "      new_row.append(1)\n",
        "    else:\n",
        "      new_row.append(0)\n",
        "  cloud.append(new_row)"
      ],
      "metadata": {
        "id": "qqls7z6eRlxb"
      },
      "execution_count": null,
      "outputs": []
    },
    {
      "cell_type": "code",
      "source": [
        "cloud_np = np.asarray(cloud)\n",
        "print(cloud_np.shape)"
      ],
      "metadata": {
        "colab": {
          "base_uri": "https://localhost:8080/"
        },
        "id": "LMrxE7L0RqLk",
        "outputId": "6c3856fb-e923-4bf7-9a3a-a289c14196c2"
      },
      "execution_count": null,
      "outputs": [
        {
          "output_type": "stream",
          "name": "stdout",
          "text": [
            "(1132, 1152)\n"
          ]
        }
      ]
    },
    {
      "cell_type": "code",
      "source": [
        "plot_image(mask=cloud_np)"
      ],
      "metadata": {
        "colab": {
          "base_uri": "https://localhost:8080/",
          "height": 878
        },
        "id": "wkcsIcmxSYJo",
        "outputId": "37629e0b-d12f-4c54-8515-b6b96597e363"
      },
      "execution_count": null,
      "outputs": [
        {
          "output_type": "display_data",
          "data": {
            "text/plain": [
              "<Figure size 1080x1080 with 1 Axes>"
            ],
            "image/png": "[encoded data removed]"
          },
          "metadata": {}
        }
      ]
    },
    {
      "cell_type": "code",
      "source": [
        "# print(cloud_np)"
      ],
      "metadata": {
        "id": "n4RYYL5SSfSB"
      },
      "execution_count": null,
      "outputs": []
    },
    {
      "cell_type": "code",
      "source": [
        "plt.imshow(cloud_np,interpolation='nearest')\n",
        "plt.show()"
      ],
      "metadata": {
        "colab": {
          "base_uri": "https://localhost:8080/",
          "height": 268
        },
        "id": "tl7_L338Spm_",
        "outputId": "01b774c4-8af9-42ee-88f5-1091eecf4ac3"
      },
      "execution_count": null,
      "outputs": [
        {
          "output_type": "display_data",
          "data": {
            "text/plain": [
              "<Figure size 432x288 with 1 Axes>"
            ],
            "image/png": "[encoded data removed]"
          },
          "metadata": {
            "needs_background": "light"
          }
        }
      ]
    },
    {
      "cell_type": "code",
      "source": [
        ""
      ],
      "metadata": {
        "id": "VPZG2bNQcFBU"
      },
      "execution_count": null,
      "outputs": []
    },
    {
      "cell_type": "code",
      "source": [
        "predicted = cloud_mask[:len(cloud_mask)-3]\n",
        "original = cloud_np[:len(cloud_np)-3]\n",
        "\n",
        "print(f'Originals shape: {original.shape}')\n",
        "print(f'Predicteds shape: {predicted.shape}')\n",
        "\n"
      ],
      "metadata": {
        "colab": {
          "base_uri": "https://localhost:8080/"
        },
        "id": "pFlu0J64TA_C",
        "outputId": "51260310-ab82-4ab2-9806-66b9b4156bef"
      },
      "execution_count": null,
      "outputs": [
        {
          "output_type": "stream",
          "name": "stdout",
          "text": [
            "Originals shape: (1129, 1152)\n",
            "Predicteds shape: (1129, 1152)\n"
          ]
        }
      ]
    },
    {
      "cell_type": "code",
      "source": [
        "false_negative = 0\n",
        "true_positive = 0\n",
        "false_positive = 0\n",
        "true_negative = 0\n",
        "\n",
        "for i in range(len(predicted)):\n",
        "  for j in range(len(predicted[0])):\n",
        "    if predicted[i][j] == 1 and original[i][j] == 1:\n",
        "      true_positive += 1\n",
        "    elif predicted[i][j] == 1 and original[i][j] == 0:\n",
        "      false_positive += 1\n",
        "    elif predicted[i][j] == 0 and original[i][j] == 0:\n",
        "      true_negative += 1\n",
        "    elif predicted[i][j] == 0 and original[i][j] == 1:\n",
        "      false_negative += 1\n",
        "\n",
        "print(f'False Negative: {false_negative}')\n",
        "print(f'True Positive: {true_positive}')\n",
        "print(f'False Positive: {false_positive}')\n",
        "print(f'True Negative: {true_negative}')\n"
      ],
      "metadata": {
        "colab": {
          "base_uri": "https://localhost:8080/"
        },
        "id": "I8pvFJ0eiC9_",
        "outputId": "8c26aa0e-f077-4ed0-b5b3-7cbf447824ff"
      },
      "execution_count": null,
      "outputs": [
        {
          "output_type": "stream",
          "name": "stdout",
          "text": [
            "False Negative: 8023\n",
            "True Positive: 36348\n",
            "False Positive: 2372\n",
            "True Negative: 1253865\n"
          ]
        }
      ]
    },
    {
      "cell_type": "code",
      "source": [
        "precission = true_positive / (true_positive+false_positive)\n",
        "recall = true_positive / (true_positive+false_negative)\n",
        "\n",
        "print(f'Precission: {precission}')\n",
        "print(f'Recall: {recall}')"
      ],
      "metadata": {
        "colab": {
          "base_uri": "https://localhost:8080/"
        },
        "id": "47XLFgc0j-0y",
        "outputId": "24e4f6ec-601d-4606-d2cf-db5a8168854f"
      },
      "execution_count": null,
      "outputs": [
        {
          "output_type": "stream",
          "name": "stdout",
          "text": [
            "Precission: 0.8731076820279384\n",
            "Recall: 0.9423722701764666\n"
          ]
        }
      ]
    },
    {
      "cell_type": "code",
      "source": [
        "# original = original[:len(original)-3]\n",
        "print(f'Originals shape: {original.shape}')\n",
        "print(f'Predicteds shape: {predicted.shape}')"
      ],
      "metadata": {
        "colab": {
          "base_uri": "https://localhost:8080/"
        },
        "id": "nZtJDYOOkXSz",
        "outputId": "6f314b72-cc8b-4dec-8f73-63f7587b1603"
      },
      "execution_count": null,
      "outputs": [
        {
          "output_type": "stream",
          "name": "stdout",
          "text": [
            "Originals shape: (1129, 1152)\n",
            "Predicteds shape: (1129, 1152)\n"
          ]
        }
      ]
    },
    {
      "cell_type": "code",
      "source": [
        "with open('model_0.txt','w') as file:\n",
        "  file.write(f'False Negative: {false_negative}\\n')\n",
        "  file.write(f'True Positive: {true_positive}\\n')\n",
        "  file.write(f'False Positive: {false_positive}\\n')\n",
        "  file.write(f'True Negative: {true_negative}\\n')\n",
        "  file.write(f'Precission: {precission}\\n')\n",
        "  file.write(f'Recall: {recall}')"
      ],
      "metadata": {
        "id": "oWEJ1L6FKSx_"
      },
      "execution_count": null,
      "outputs": []
    },
    {
      "cell_type": "code",
      "source": [
        ""
      ],
      "metadata": {
        "id": "HyP3QqbvKV0V"
      },
      "execution_count": null,
      "outputs": []
    },
    {
      "cell_type": "code",
      "source": [
        ""
      ],
      "metadata": {
        "id": "7qzUw-6jKXuw"
      },
      "execution_count": null,
      "outputs": []
    },
    {
      "cell_type": "markdown",
      "source": [
        "# Writing an over-all evalutation script"
      ],
      "metadata": {
        "id": "uL3kspr6baqe"
      }
    },
    {
      "cell_type": "code",
      "source": [
        "# helper methods\n",
        "def get_algo_predictions(algo_prediction_FILE):\n",
        "  cloud_mask = np.genfromtxt(algo_prediction_FILE,delimiter=',')\n",
        "  predicted = cloud_mask[:len(cloud_mask)-3]\n",
        "  return predicted\n",
        "\n",
        "def get_original_data(original_PICTURE):\n",
        "  img = Image.open(original_PICTURE)\n",
        "  numpydata = asarray(img)\n",
        "  numpydata = numpydata[:,:,0:1]\n",
        "\n",
        "  cloud = []\n",
        "  for row in numpydata:\n",
        "    new_row = []\n",
        "    for elem in row:\n",
        "      if elem[0] > 200:\n",
        "        new_row.append(1)\n",
        "      else:\n",
        "        new_row.append(0)\n",
        "    cloud.append(new_row)\n",
        "  cloud_np = np.asarray(cloud)\n",
        "  original = cloud_np[:len(cloud_np)-3]\n",
        "  return original\n",
        "\n",
        "def calculate_classification(predicted,original):\n",
        "  false_negative = 0\n",
        "  true_positive = 0\n",
        "  false_positive = 0\n",
        "  true_negative = 0\n",
        "\n",
        "  for i in range(len(predicted)):\n",
        "    for j in range(len(predicted[0])):\n",
        "      if predicted[i][j] == 1 and original[i][j] == 1:\n",
        "        true_positive += 1\n",
        "      elif predicted[i][j] == 1 and original[i][j] == 0:\n",
        "        false_positive += 1\n",
        "      elif predicted[i][j] == 0 and original[i][j] == 0:\n",
        "        true_negative += 1\n",
        "      elif predicted[i][j] == 0 and original[i][j] == 1:\n",
        "        false_negative += 1\n",
        "  return [false_negative,true_positive,false_positive,true_negative]\n",
        "\n",
        "def get_precission(classification_calculations):\n",
        "  precission = classification_calculations[1] / (classification_calculations[1] + classification_calculations[2])\n",
        "  return precission\n",
        "\n",
        "def get_recall(classification_calculations):\n",
        "  recall = classification_calculations[1] / (classification_calculations[1] + classification_calculations[0])\n",
        "  return recall\n",
        "\n"
      ],
      "metadata": {
        "id": "cLRhQ5j8S_Ax"
      },
      "execution_count": null,
      "outputs": []
    },
    {
      "cell_type": "code",
      "source": [
        "def brainy_controller(algo_prediction_FILE,original_PICTURE):\n",
        "    predicted = get_algo_predictions(algo_prediction_FILE)\n",
        "    plot_image(mask=predicted)\n",
        "    original = get_original_data(original_PICTURE)\n",
        "    plot_image(mask=original)\n",
        "\n",
        "    classification_calculations = calculate_classification(predicted,original)\n",
        "\n",
        "    precission = get_precission(classification_calculations)\n",
        "    recall = get_recall(classification_calculations)\n",
        "\n",
        "    \n",
        "\n",
        "    # write in a text file (output file)\n",
        "    str_name = algo_prediction_FILE.split('.')[0] + '.txt'\n",
        "    with open(str_name,'w') as output_file:\n",
        "      output_file.write(f'False Negative: {classification_calculations[0]}\\n')\n",
        "      output_file.write(f'True Positive: {classification_calculations[1]}\\n')\n",
        "      output_file.write(f'False Positive: {classification_calculations[2]}\\n')\n",
        "      output_file.write(f'True Negative: {classification_calculations[3]}\\n')\n",
        "      output_file.write(f'Precission: {precission}\\n')\n",
        "      output_file.write(f'Recall: {recall}')\n",
        "\n",
        "\n"
      ],
      "metadata": {
        "id": "UEY_BL2oKZfl"
      },
      "execution_count": null,
      "outputs": []
    },
    {
      "cell_type": "code",
      "source": [
        ""
      ],
      "metadata": {
        "id": "lKV1F7tMKtTU"
      },
      "execution_count": null,
      "outputs": []
    },
    {
      "cell_type": "code",
      "source": [
        "brainy_controller('model_0.csv','cloud-masking-test-1.jpeg')"
      ],
      "metadata": {
        "id": "bSalSE8nUnsx",
        "colab": {
          "base_uri": "https://localhost:8080/",
          "height": 1000
        },
        "outputId": "d17b9182-a4c2-42e9-deaa-fef7e40c5979"
      },
      "execution_count": null,
      "outputs": [
        {
          "output_type": "display_data",
          "data": {
            "text/plain": [
              "<Figure size 1080x1080 with 1 Axes>"
            ],
            "image/png": "[encoded data removed]"
          },
          "metadata": {}
        },
        {
          "output_type": "display_data",
          "data": {
            "text/plain": [
              "<Figure size 1080x1080 with 1 Axes>"
            ],
            "image/png": "[encoded data removed]"
          },
          "metadata": {}
        }
      ]
    },
    {
      "cell_type": "code",
      "source": [
        ""
      ],
      "metadata": {
        "id": "JaZb8QzdWhuf"
      },
      "execution_count": null,
      "outputs": []
    }
  ]
}